{
 "metadata": {
  "language_info": {
   "codemirror_mode": {
    "name": "ipython",
    "version": 3
   },
   "file_extension": ".py",
   "mimetype": "text/x-python",
   "name": "python",
   "nbconvert_exporter": "python",
   "pygments_lexer": "ipython3",
   "version": "3.8.1-final"
  },
  "orig_nbformat": 2,
  "kernelspec": {
   "name": "python_defaultSpec_1600324396195",
   "display_name": "Python 3.8.1 64-bit"
  }
 },
 "nbformat": 4,
 "nbformat_minor": 2,
 "cells": [
  {
   "cell_type": "code",
   "execution_count": 3,
   "metadata": {
    "tags": []
   },
   "outputs": [
    {
     "output_type": "execute_result",
     "data": {
      "text/plain": "           Ship Mode    Segment        Country             City       State  \\\n0       Second Class   Consumer  United States        Henderson    Kentucky   \n1       Second Class   Consumer  United States        Henderson    Kentucky   \n2       Second Class  Corporate  United States      Los Angeles  California   \n3     Standard Class   Consumer  United States  Fort Lauderdale     Florida   \n4     Standard Class   Consumer  United States  Fort Lauderdale     Florida   \n...              ...        ...            ...              ...         ...   \n9989    Second Class   Consumer  United States            Miami     Florida   \n9990  Standard Class   Consumer  United States       Costa Mesa  California   \n9991  Standard Class   Consumer  United States       Costa Mesa  California   \n9992  Standard Class   Consumer  United States       Costa Mesa  California   \n9993    Second Class   Consumer  United States      Westminster  California   \n\n      Postal Code Region         Category Sub-Category     Sales  Quantity  \\\n0           42420  South        Furniture    Bookcases  261.9600         2   \n1           42420  South        Furniture       Chairs  731.9400         3   \n2           90036   West  Office Supplies       Labels   14.6200         2   \n3           33311  South        Furniture       Tables  957.5775         5   \n4           33311  South  Office Supplies      Storage   22.3680         2   \n...           ...    ...              ...          ...       ...       ...   \n9989        33180  South        Furniture  Furnishings   25.2480         3   \n9990        92627   West        Furniture  Furnishings   91.9600         2   \n9991        92627   West       Technology       Phones  258.5760         2   \n9992        92627   West  Office Supplies        Paper   29.6000         4   \n9993        92683   West  Office Supplies   Appliances  243.1600         2   \n\n      Discount    Profit  \n0         0.00   41.9136  \n1         0.00  219.5820  \n2         0.00    6.8714  \n3         0.45 -383.0310  \n4         0.20    2.5164  \n...        ...       ...  \n9989      0.20    4.1028  \n9990      0.00   15.6332  \n9991      0.20   19.3932  \n9992      0.00   13.3200  \n9993      0.00   72.9480  \n\n[9994 rows x 13 columns]",
      "text/html": "<div>\n<style scoped>\n    .dataframe tbody tr th:only-of-type {\n        vertical-align: middle;\n    }\n\n    .dataframe tbody tr th {\n        vertical-align: top;\n    }\n\n    .dataframe thead th {\n        text-align: right;\n    }\n</style>\n<table border=\"1\" class=\"dataframe\">\n  <thead>\n    <tr style=\"text-align: right;\">\n      <th></th>\n      <th>Ship Mode</th>\n      <th>Segment</th>\n      <th>Country</th>\n      <th>City</th>\n      <th>State</th>\n      <th>Postal Code</th>\n      <th>Region</th>\n      <th>Category</th>\n      <th>Sub-Category</th>\n      <th>Sales</th>\n      <th>Quantity</th>\n      <th>Discount</th>\n      <th>Profit</th>\n    </tr>\n  </thead>\n  <tbody>\n    <tr>\n      <th>0</th>\n      <td>Second Class</td>\n      <td>Consumer</td>\n      <td>United States</td>\n      <td>Henderson</td>\n      <td>Kentucky</td>\n      <td>42420</td>\n      <td>South</td>\n      <td>Furniture</td>\n      <td>Bookcases</td>\n      <td>261.9600</td>\n      <td>2</td>\n      <td>0.00</td>\n      <td>41.9136</td>\n    </tr>\n    <tr>\n      <th>1</th>\n      <td>Second Class</td>\n      <td>Consumer</td>\n      <td>United States</td>\n      <td>Henderson</td>\n      <td>Kentucky</td>\n      <td>42420</td>\n      <td>South</td>\n      <td>Furniture</td>\n      <td>Chairs</td>\n      <td>731.9400</td>\n      <td>3</td>\n      <td>0.00</td>\n      <td>219.5820</td>\n    </tr>\n    <tr>\n      <th>2</th>\n      <td>Second Class</td>\n      <td>Corporate</td>\n      <td>United States</td>\n      <td>Los Angeles</td>\n      <td>California</td>\n      <td>90036</td>\n      <td>West</td>\n      <td>Office Supplies</td>\n      <td>Labels</td>\n      <td>14.6200</td>\n      <td>2</td>\n      <td>0.00</td>\n      <td>6.8714</td>\n    </tr>\n    <tr>\n      <th>3</th>\n      <td>Standard Class</td>\n      <td>Consumer</td>\n      <td>United States</td>\n      <td>Fort Lauderdale</td>\n      <td>Florida</td>\n      <td>33311</td>\n      <td>South</td>\n      <td>Furniture</td>\n      <td>Tables</td>\n      <td>957.5775</td>\n      <td>5</td>\n      <td>0.45</td>\n      <td>-383.0310</td>\n    </tr>\n    <tr>\n      <th>4</th>\n      <td>Standard Class</td>\n      <td>Consumer</td>\n      <td>United States</td>\n      <td>Fort Lauderdale</td>\n      <td>Florida</td>\n      <td>33311</td>\n      <td>South</td>\n      <td>Office Supplies</td>\n      <td>Storage</td>\n      <td>22.3680</td>\n      <td>2</td>\n      <td>0.20</td>\n      <td>2.5164</td>\n    </tr>\n    <tr>\n      <th>...</th>\n      <td>...</td>\n      <td>...</td>\n      <td>...</td>\n      <td>...</td>\n      <td>...</td>\n      <td>...</td>\n      <td>...</td>\n      <td>...</td>\n      <td>...</td>\n      <td>...</td>\n      <td>...</td>\n      <td>...</td>\n      <td>...</td>\n    </tr>\n    <tr>\n      <th>9989</th>\n      <td>Second Class</td>\n      <td>Consumer</td>\n      <td>United States</td>\n      <td>Miami</td>\n      <td>Florida</td>\n      <td>33180</td>\n      <td>South</td>\n      <td>Furniture</td>\n      <td>Furnishings</td>\n      <td>25.2480</td>\n      <td>3</td>\n      <td>0.20</td>\n      <td>4.1028</td>\n    </tr>\n    <tr>\n      <th>9990</th>\n      <td>Standard Class</td>\n      <td>Consumer</td>\n      <td>United States</td>\n      <td>Costa Mesa</td>\n      <td>California</td>\n      <td>92627</td>\n      <td>West</td>\n      <td>Furniture</td>\n      <td>Furnishings</td>\n      <td>91.9600</td>\n      <td>2</td>\n      <td>0.00</td>\n      <td>15.6332</td>\n    </tr>\n    <tr>\n      <th>9991</th>\n      <td>Standard Class</td>\n      <td>Consumer</td>\n      <td>United States</td>\n      <td>Costa Mesa</td>\n      <td>California</td>\n      <td>92627</td>\n      <td>West</td>\n      <td>Technology</td>\n      <td>Phones</td>\n      <td>258.5760</td>\n      <td>2</td>\n      <td>0.20</td>\n      <td>19.3932</td>\n    </tr>\n    <tr>\n      <th>9992</th>\n      <td>Standard Class</td>\n      <td>Consumer</td>\n      <td>United States</td>\n      <td>Costa Mesa</td>\n      <td>California</td>\n      <td>92627</td>\n      <td>West</td>\n      <td>Office Supplies</td>\n      <td>Paper</td>\n      <td>29.6000</td>\n      <td>4</td>\n      <td>0.00</td>\n      <td>13.3200</td>\n    </tr>\n    <tr>\n      <th>9993</th>\n      <td>Second Class</td>\n      <td>Consumer</td>\n      <td>United States</td>\n      <td>Westminster</td>\n      <td>California</td>\n      <td>92683</td>\n      <td>West</td>\n      <td>Office Supplies</td>\n      <td>Appliances</td>\n      <td>243.1600</td>\n      <td>2</td>\n      <td>0.00</td>\n      <td>72.9480</td>\n    </tr>\n  </tbody>\n</table>\n<p>9994 rows × 13 columns</p>\n</div>"
     },
     "metadata": {},
     "execution_count": 3
    }
   ],
   "source": [
    "import numpy as np\n",
    "import pandas as pd\n",
    "data = open(\"D:\\Python tutorials\\SampleSuperstore.csv\",'r')\n",
    "df = pd.read_csv(data)\n",
    "df\n",
    "\n"
   ]
  },
  {
   "cell_type": "code",
   "execution_count": 4,
   "metadata": {},
   "outputs": [
    {
     "output_type": "execute_result",
     "data": {
      "text/plain": "Ship Mode       Standard Class\nSegment               Consumer\nCountry          United States\nCity                 Lancaster\nState                     Ohio\nPostal Code              43130\nRegion                    East\nCategory            Technology\nSub-Category          Machines\nSales                  4499.98\nQuantity                     5\nDiscount                   0.7\nProfit                -6599.98\nName: 7772, dtype: object"
     },
     "metadata": {},
     "execution_count": 4
    }
   ],
   "source": [
    "df.loc[df['Profit'].idxmin()]"
   ]
  },
  {
   "cell_type": "code",
   "execution_count": 6,
   "metadata": {},
   "outputs": [
    {
     "output_type": "execute_result",
     "data": {
      "text/plain": "        Postal Code         Sales     Quantity     Discount       Profit\ncount   9994.000000   9994.000000  9994.000000  9994.000000  9994.000000\nmean   55190.379428    229.858001     3.789574     0.156203    28.656896\nstd    32063.693350    623.245101     2.225110     0.206452   234.260108\nmin     1040.000000      0.444000     1.000000     0.000000 -6599.978000\n25%    23223.000000     17.280000     2.000000     0.000000     1.728750\n50%    56430.500000     54.490000     3.000000     0.200000     8.666500\n75%    90008.000000    209.940000     5.000000     0.200000    29.364000\nmax    99301.000000  22638.480000    14.000000     0.800000  8399.976000",
      "text/html": "<div>\n<style scoped>\n    .dataframe tbody tr th:only-of-type {\n        vertical-align: middle;\n    }\n\n    .dataframe tbody tr th {\n        vertical-align: top;\n    }\n\n    .dataframe thead th {\n        text-align: right;\n    }\n</style>\n<table border=\"1\" class=\"dataframe\">\n  <thead>\n    <tr style=\"text-align: right;\">\n      <th></th>\n      <th>Postal Code</th>\n      <th>Sales</th>\n      <th>Quantity</th>\n      <th>Discount</th>\n      <th>Profit</th>\n    </tr>\n  </thead>\n  <tbody>\n    <tr>\n      <th>count</th>\n      <td>9994.000000</td>\n      <td>9994.000000</td>\n      <td>9994.000000</td>\n      <td>9994.000000</td>\n      <td>9994.000000</td>\n    </tr>\n    <tr>\n      <th>mean</th>\n      <td>55190.379428</td>\n      <td>229.858001</td>\n      <td>3.789574</td>\n      <td>0.156203</td>\n      <td>28.656896</td>\n    </tr>\n    <tr>\n      <th>std</th>\n      <td>32063.693350</td>\n      <td>623.245101</td>\n      <td>2.225110</td>\n      <td>0.206452</td>\n      <td>234.260108</td>\n    </tr>\n    <tr>\n      <th>min</th>\n      <td>1040.000000</td>\n      <td>0.444000</td>\n      <td>1.000000</td>\n      <td>0.000000</td>\n      <td>-6599.978000</td>\n    </tr>\n    <tr>\n      <th>25%</th>\n      <td>23223.000000</td>\n      <td>17.280000</td>\n      <td>2.000000</td>\n      <td>0.000000</td>\n      <td>1.728750</td>\n    </tr>\n    <tr>\n      <th>50%</th>\n      <td>56430.500000</td>\n      <td>54.490000</td>\n      <td>3.000000</td>\n      <td>0.200000</td>\n      <td>8.666500</td>\n    </tr>\n    <tr>\n      <th>75%</th>\n      <td>90008.000000</td>\n      <td>209.940000</td>\n      <td>5.000000</td>\n      <td>0.200000</td>\n      <td>29.364000</td>\n    </tr>\n    <tr>\n      <th>max</th>\n      <td>99301.000000</td>\n      <td>22638.480000</td>\n      <td>14.000000</td>\n      <td>0.800000</td>\n      <td>8399.976000</td>\n    </tr>\n  </tbody>\n</table>\n</div>"
     },
     "metadata": {},
     "execution_count": 6
    }
   ],
   "source": [
    "df.describe()"
   ]
  },
  {
   "source": [
    "Checking for Null Value\n"
   ],
   "cell_type": "markdown",
   "metadata": {}
  },
  {
   "source": [
    "df.isnull().sum()"
   ],
   "cell_type": "code",
   "metadata": {},
   "execution_count": 9,
   "outputs": [
    {
     "output_type": "execute_result",
     "data": {
      "text/plain": "Ship Mode       0\nSegment         0\nCountry         0\nCity            0\nState           0\nPostal Code     0\nRegion          0\nCategory        0\nSub-Category    0\nSales           0\nQuantity        0\nDiscount        0\nProfit          0\ndtype: int64"
     },
     "metadata": {},
     "execution_count": 9
    }
   ]
  },
  {
   "source": [
    "<h1>Total No.of Rows and Columns:</h1>"
   ],
   "cell_type": "markdown",
   "metadata": {}
  },
  {
   "cell_type": "code",
   "execution_count": 13,
   "metadata": {
    "tags": []
   },
   "outputs": [
    {
     "output_type": "stream",
     "name": "stdout",
     "text": "Total no. of rows : 9994\nTotal no. of Columns : 9994\n"
    }
   ],
   "source": [
    "Total_rows = len(df.axes[0])\n",
    "Total_cols = len(df.axes[0])\n",
    "print(\"Total no. of rows :\", Total_rows)\n",
    "print(\"Total no. of Columns :\", Total_cols)"
   ]
  },
  {
   "source": [
    "Citywise count"
   ],
   "cell_type": "markdown",
   "metadata": {}
  },
  {
   "cell_type": "code",
   "execution_count": 24,
   "metadata": {
    "tags": []
   },
   "outputs": [
    {
     "output_type": "stream",
     "name": "stdout",
     "text": "New York City    915\nLos Angeles      747\nPhiladelphia     537\nSan Francisco    510\nSeattle          428\n                ... \nMontebello         1\nRomeoville         1\nAtlantic City      1\nManhattan          1\nConway             1\nName: City, Length: 531, dtype: int64\nTotal no. of cities: 531\n"
    }
   ],
   "source": [
    "City_count = df['City'].value_counts()\n",
    "print(City_count)\n",
    "#Counting total no. of cities\n",
    "Total_city = df['City'].nunique()\n",
    "print(\"Total no. of cities:\", Total_city)"
   ]
  },
  {
   "source": [
    "State wise Count\n"
   ],
   "cell_type": "markdown",
   "metadata": {}
  },
  {
   "cell_type": "code",
   "execution_count": 25,
   "metadata": {
    "tags": []
   },
   "outputs": [
    {
     "output_type": "stream",
     "name": "stdout",
     "text": "California              2001\nNew York                1128\nTexas                    985\nPennsylvania             587\nWashington               506\nIllinois                 492\nOhio                     469\nFlorida                  383\nMichigan                 255\nNorth Carolina           249\nArizona                  224\nVirginia                 224\nGeorgia                  184\nTennessee                183\nColorado                 182\nIndiana                  149\nKentucky                 139\nMassachusetts            135\nNew Jersey               130\nOregon                   124\nWisconsin                110\nMaryland                 105\nDelaware                  96\nMinnesota                 89\nConnecticut               82\nOklahoma                  66\nMissouri                  66\nAlabama                   61\nArkansas                  60\nRhode Island              56\nUtah                      53\nMississippi               53\nLouisiana                 42\nSouth Carolina            42\nNevada                    39\nNebraska                  38\nNew Mexico                37\nIowa                      30\nNew Hampshire             27\nKansas                    24\nIdaho                     21\nMontana                   15\nSouth Dakota              12\nVermont                   11\nDistrict of Columbia      10\nMaine                      8\nNorth Dakota               7\nWest Virginia              4\nWyoming                    1\nName: State, dtype: int64\nTotal no. of States: 49\n"
    }
   ],
   "source": [
    "State_count = df['State'].value_counts()\n",
    "print(State_count)\n",
    "#Counting total no. of States\n",
    "Total_state = df['State'].nunique()\n",
    "print(\"Total no. of States:\", Total_state)"
   ]
  },
  {
   "source": [
    "Category wise Count"
   ],
   "cell_type": "markdown",
   "metadata": {}
  },
  {
   "cell_type": "code",
   "execution_count": 27,
   "metadata": {},
   "outputs": [
    {
     "output_type": "execute_result",
     "data": {
      "text/plain": "Office Supplies    6026\nFurniture          2121\nTechnology         1847\nName: Category, dtype: int64"
     },
     "metadata": {},
     "execution_count": 27
    }
   ],
   "source": [
    "catg = df['Category'].value_counts()\n",
    "catg"
   ]
  },
  {
   "cell_type": "code",
   "execution_count": 29,
   "metadata": {},
   "outputs": [
    {
     "output_type": "execute_result",
     "data": {
      "text/plain": "Ship Mode       Standard Class\nSegment              Corporate\nCountry          United States\nCity                 Lafayette\nState                  Indiana\nPostal Code              47905\nRegion                 Central\nCategory            Technology\nSub-Category           Copiers\nSales                    17500\nQuantity                     5\nDiscount                     0\nProfit                 8399.98\nName: 6826, dtype: object"
     },
     "metadata": {},
     "execution_count": 29
    }
   ],
   "source": [
    "# Maximum Profit\n",
    "df.loc[df['Profit'].idxmax()]"
   ]
  },
  {
   "source": [
    "<h2>To Identify city with maximum profit</h2>\n",
    "<h3>City wise profit</h3>"
   ],
   "cell_type": "markdown",
   "metadata": {}
  },
  {
   "cell_type": "code",
   "execution_count": 38,
   "metadata": {
    "tags": []
   },
   "outputs": [
    {
     "output_type": "stream",
     "name": "stdout",
     "text": "City wise Profit in Ascending Order: \n City\nAberdeen          6.6300\nAbilene          -3.7584\nAkron          -186.6356\nAlbuquerque     634.0881\nAlexandria      318.6183\n                 ...    \nWoonsocket       78.6791\nYonkers        2767.7557\nYork           -102.1692\nYucaipa          13.2080\nYuma           -465.9909\nName: Profit, Length: 531, dtype: float64\n"
    }
   ],
   "source": [
    "City_Profit = df.groupby('City').sum()['Profit']\n",
    "print(\"City wise Profit in Ascending Order: \\n\", City_Profit)"
   ]
  },
  {
   "cell_type": "code",
   "execution_count": 59,
   "metadata": {},
   "outputs": [
    {
     "output_type": "execute_result",
     "data": {
      "text/plain": "City\nNew York City    62036.9837\nLos Angeles      30440.7579\nSeattle          29156.0967\nSan Francisco    17507.3854\nDetroit          13181.7908\n                    ...    \nChicago          -6654.5688\nLancaster        -7239.0684\nSan Antonio      -7299.0502\nHouston         -10153.5485\nPhiladelphia    -13837.7674\nName: Profit, Length: 531, dtype: float64"
     },
     "metadata": {},
     "execution_count": 59
    }
   ],
   "source": [
    "City_Profit.sort_values(ascending = False)\n",
    "####plot"
   ]
  },
  {
   "source": [
    "<h2>To Identify Maximum to Minimum profit with in Region\"</h2>\n",
    "<h3>Region wise profit</h3> "
   ],
   "cell_type": "markdown",
   "metadata": {}
  },
  {
   "cell_type": "code",
   "execution_count": 51,
   "metadata": {
    "tags": []
   },
   "outputs": [
    {
     "output_type": "stream",
     "name": "stdout",
     "text": "Region wise profit:\n Region\nCentral     39706.3625\nEast        91522.7800\nSouth       46749.4303\nWest       108418.4489\nName: Profit, dtype: float64\n"
    }
   ],
   "source": [
    "Region_profit = df.groupby('Region').sum()['Profit']\n",
    "print(\"Region wise profit:\\n\",Region_profit)"
   ]
  },
  {
   "cell_type": "code",
   "execution_count": 58,
   "metadata": {},
   "outputs": [
    {
     "output_type": "execute_result",
     "data": {
      "text/plain": "Region\nWest       108418.4489\nEast        91522.7800\nSouth       46749.4303\nCentral     39706.3625\nName: Profit, dtype: float64"
     },
     "metadata": {},
     "execution_count": 58
    }
   ],
   "source": [
    "#Display Region wise profit in maximum to minimum order\n",
    "Region_profit.sort_values(ascending = False)\n",
    "####plot"
   ]
  },
  {
   "cell_type": "code",
   "execution_count": null,
   "metadata": {},
   "outputs": [],
   "source": []
  }
 ]
}